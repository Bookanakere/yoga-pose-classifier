{
  "nbformat": 4,
  "nbformat_minor": 0,
  "metadata": {
    "colab": {
      "name": "yoga_pose_classifier_app.ipynb",
      "provenance": [],
      "collapsed_sections": [],
      "include_colab_link": true
    },
    "kernelspec": {
      "name": "python3",
      "display_name": "Python 3"
    },
    "language_info": {
      "name": "python"
    },
    "accelerator": "GPU",
    "widgets": {
      "application/vnd.jupyter.widget-state+json": {
        "b677c222d96f47eba27e300ff7f015e2": {
          "model_module": "@jupyter-widgets/controls",
          "model_name": "VBoxModel",
          "state": {
            "_view_name": "VBoxView",
            "_dom_classes": [],
            "_model_name": "VBoxModel",
            "_view_module": "@jupyter-widgets/controls",
            "_model_module_version": "1.5.0",
            "_view_count": null,
            "_view_module_version": "1.5.0",
            "box_style": "",
            "layout": "IPY_MODEL_ff624985b6f843979cffe5a84e99bac4",
            "_model_module": "@jupyter-widgets/controls",
            "children": [
              "IPY_MODEL_818b674fa489406dae59b6e9e6cc2b91",
              "IPY_MODEL_a96b3a7de78d4cfcaf81aa4e5a69641f",
              "IPY_MODEL_66bf93796bb94621be2ff7f8bba829d6",
              "IPY_MODEL_a2507d8b69674d1da4d7c334f49093ae",
              "IPY_MODEL_3d0685ee90b049b986d4e0c72f25207d"
            ]
          }
        },
        "ff624985b6f843979cffe5a84e99bac4": {
          "model_module": "@jupyter-widgets/base",
          "model_name": "LayoutModel",
          "state": {
            "_view_name": "LayoutView",
            "grid_template_rows": null,
            "right": null,
            "justify_content": null,
            "_view_module": "@jupyter-widgets/base",
            "overflow": null,
            "_model_module_version": "1.2.0",
            "_view_count": null,
            "flex_flow": null,
            "width": null,
            "min_width": null,
            "border": null,
            "align_items": null,
            "bottom": null,
            "_model_module": "@jupyter-widgets/base",
            "top": null,
            "grid_column": null,
            "overflow_y": null,
            "overflow_x": null,
            "grid_auto_flow": null,
            "grid_area": null,
            "grid_template_columns": null,
            "flex": null,
            "_model_name": "LayoutModel",
            "justify_items": null,
            "grid_row": null,
            "max_height": null,
            "align_content": null,
            "visibility": null,
            "align_self": null,
            "height": null,
            "min_height": null,
            "padding": null,
            "grid_auto_rows": null,
            "grid_gap": null,
            "max_width": null,
            "order": null,
            "_view_module_version": "1.2.0",
            "grid_template_areas": null,
            "object_position": null,
            "object_fit": null,
            "grid_auto_columns": null,
            "margin": null,
            "display": null,
            "left": null
          }
        },
        "818b674fa489406dae59b6e9e6cc2b91": {
          "model_module": "@jupyter-widgets/controls",
          "model_name": "LabelModel",
          "state": {
            "_view_name": "LabelView",
            "style": "IPY_MODEL_ac727fa2b4744895b1416c6b79e494d1",
            "_dom_classes": [],
            "description": "",
            "_model_name": "LabelModel",
            "placeholder": "​",
            "_view_module": "@jupyter-widgets/controls",
            "_model_module_version": "1.5.0",
            "value": "upload your pic!",
            "_view_count": null,
            "_view_module_version": "1.5.0",
            "description_tooltip": null,
            "_model_module": "@jupyter-widgets/controls",
            "layout": "IPY_MODEL_5c98b81f2b5541959f6b08ac92ac0695"
          }
        },
        "a96b3a7de78d4cfcaf81aa4e5a69641f": {
          "model_module": "@jupyter-widgets/controls",
          "model_name": "FileUploadModel",
          "state": {
            "_view_name": "FileUploadView",
            "_counter": 1,
            "style": "IPY_MODEL_cd89482a77464dd8a78914260b067efc",
            "_dom_classes": [],
            "description": "Upload",
            "multiple": false,
            "_model_name": "FileUploadModel",
            "data": [
              null
            ],
            "button_style": "",
            "_view_module": "@jupyter-widgets/controls",
            "_model_module_version": "1.5.0",
            "accept": "",
            "_view_count": null,
            "disabled": false,
            "_view_module_version": "1.5.0",
            "error": "",
            "description_tooltip": null,
            "metadata": [
              {
                "name": "pose1.jpg",
                "type": "image/jpeg",
                "size": 59177,
                "lastModified": 1624247712166
              }
            ],
            "_model_module": "@jupyter-widgets/controls",
            "layout": "IPY_MODEL_8019227cb9d7494fa2d6b5dd22d74f13",
            "icon": "upload"
          }
        },
        "66bf93796bb94621be2ff7f8bba829d6": {
          "model_module": "@jupyter-widgets/controls",
          "model_name": "ButtonModel",
          "state": {
            "_view_name": "ButtonView",
            "style": "IPY_MODEL_e516d3826459420b8a46010075f99dcc",
            "_dom_classes": [],
            "description": "Classify",
            "_model_name": "ButtonModel",
            "button_style": "",
            "_view_module": "@jupyter-widgets/controls",
            "_model_module_version": "1.5.0",
            "tooltip": "",
            "_view_count": null,
            "disabled": false,
            "_view_module_version": "1.5.0",
            "layout": "IPY_MODEL_689092d5e4cd4e1fa57bdabca9a2ac8a",
            "_model_module": "@jupyter-widgets/controls",
            "icon": ""
          }
        },
        "a2507d8b69674d1da4d7c334f49093ae": {
          "model_module": "@jupyter-widgets/output",
          "model_name": "OutputModel",
          "state": {
            "_view_name": "OutputView",
            "msg_id": "",
            "_dom_classes": [],
            "_model_name": "OutputModel",
            "outputs": [
              {
                "output_type": "display_data",
                "metadata": {
                  "tags": []
                },
                "image/png": "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\n",
                "text/plain": "<PIL.Image.Image image mode=RGB size=85x128 at 0x7F568F194590>"
              }
            ],
            "_view_module": "@jupyter-widgets/output",
            "_model_module_version": "1.0.0",
            "_view_count": null,
            "_view_module_version": "1.0.0",
            "layout": "IPY_MODEL_1f971ca821964934be5066c8bc00e88e",
            "_model_module": "@jupyter-widgets/output"
          }
        },
        "3d0685ee90b049b986d4e0c72f25207d": {
          "model_module": "@jupyter-widgets/controls",
          "model_name": "LabelModel",
          "state": {
            "_view_name": "LabelView",
            "style": "IPY_MODEL_c04b266e279d4fc2befbfaab8f11d39b",
            "_dom_classes": [],
            "description": "",
            "_model_name": "LabelModel",
            "placeholder": "​",
            "_view_module": "@jupyter-widgets/controls",
            "_model_module_version": "1.5.0",
            "value": "Prediction: tree; Probability: 0.9977",
            "_view_count": null,
            "_view_module_version": "1.5.0",
            "description_tooltip": null,
            "_model_module": "@jupyter-widgets/controls",
            "layout": "IPY_MODEL_db837315c3904663ade18b8369a79f2e"
          }
        },
        "ac727fa2b4744895b1416c6b79e494d1": {
          "model_module": "@jupyter-widgets/controls",
          "model_name": "DescriptionStyleModel",
          "state": {
            "_view_name": "StyleView",
            "_model_name": "DescriptionStyleModel",
            "description_width": "",
            "_view_module": "@jupyter-widgets/base",
            "_model_module_version": "1.5.0",
            "_view_count": null,
            "_view_module_version": "1.2.0",
            "_model_module": "@jupyter-widgets/controls"
          }
        },
        "5c98b81f2b5541959f6b08ac92ac0695": {
          "model_module": "@jupyter-widgets/base",
          "model_name": "LayoutModel",
          "state": {
            "_view_name": "LayoutView",
            "grid_template_rows": null,
            "right": null,
            "justify_content": null,
            "_view_module": "@jupyter-widgets/base",
            "overflow": null,
            "_model_module_version": "1.2.0",
            "_view_count": null,
            "flex_flow": null,
            "width": null,
            "min_width": null,
            "border": null,
            "align_items": null,
            "bottom": null,
            "_model_module": "@jupyter-widgets/base",
            "top": null,
            "grid_column": null,
            "overflow_y": null,
            "overflow_x": null,
            "grid_auto_flow": null,
            "grid_area": null,
            "grid_template_columns": null,
            "flex": null,
            "_model_name": "LayoutModel",
            "justify_items": null,
            "grid_row": null,
            "max_height": null,
            "align_content": null,
            "visibility": null,
            "align_self": null,
            "height": null,
            "min_height": null,
            "padding": null,
            "grid_auto_rows": null,
            "grid_gap": null,
            "max_width": null,
            "order": null,
            "_view_module_version": "1.2.0",
            "grid_template_areas": null,
            "object_position": null,
            "object_fit": null,
            "grid_auto_columns": null,
            "margin": null,
            "display": null,
            "left": null
          }
        },
        "cd89482a77464dd8a78914260b067efc": {
          "model_module": "@jupyter-widgets/controls",
          "model_name": "ButtonStyleModel",
          "state": {
            "_view_name": "StyleView",
            "_model_name": "ButtonStyleModel",
            "_view_module": "@jupyter-widgets/base",
            "_model_module_version": "1.5.0",
            "_view_count": null,
            "button_color": null,
            "font_weight": "",
            "_view_module_version": "1.2.0",
            "_model_module": "@jupyter-widgets/controls"
          }
        },
        "8019227cb9d7494fa2d6b5dd22d74f13": {
          "model_module": "@jupyter-widgets/base",
          "model_name": "LayoutModel",
          "state": {
            "_view_name": "LayoutView",
            "grid_template_rows": null,
            "right": null,
            "justify_content": null,
            "_view_module": "@jupyter-widgets/base",
            "overflow": null,
            "_model_module_version": "1.2.0",
            "_view_count": null,
            "flex_flow": null,
            "width": null,
            "min_width": null,
            "border": null,
            "align_items": null,
            "bottom": null,
            "_model_module": "@jupyter-widgets/base",
            "top": null,
            "grid_column": null,
            "overflow_y": null,
            "overflow_x": null,
            "grid_auto_flow": null,
            "grid_area": null,
            "grid_template_columns": null,
            "flex": null,
            "_model_name": "LayoutModel",
            "justify_items": null,
            "grid_row": null,
            "max_height": null,
            "align_content": null,
            "visibility": null,
            "align_self": null,
            "height": null,
            "min_height": null,
            "padding": null,
            "grid_auto_rows": null,
            "grid_gap": null,
            "max_width": null,
            "order": null,
            "_view_module_version": "1.2.0",
            "grid_template_areas": null,
            "object_position": null,
            "object_fit": null,
            "grid_auto_columns": null,
            "margin": null,
            "display": null,
            "left": null
          }
        },
        "e516d3826459420b8a46010075f99dcc": {
          "model_module": "@jupyter-widgets/controls",
          "model_name": "ButtonStyleModel",
          "state": {
            "_view_name": "StyleView",
            "_model_name": "ButtonStyleModel",
            "_view_module": "@jupyter-widgets/base",
            "_model_module_version": "1.5.0",
            "_view_count": null,
            "button_color": null,
            "font_weight": "",
            "_view_module_version": "1.2.0",
            "_model_module": "@jupyter-widgets/controls"
          }
        },
        "689092d5e4cd4e1fa57bdabca9a2ac8a": {
          "model_module": "@jupyter-widgets/base",
          "model_name": "LayoutModel",
          "state": {
            "_view_name": "LayoutView",
            "grid_template_rows": null,
            "right": null,
            "justify_content": null,
            "_view_module": "@jupyter-widgets/base",
            "overflow": null,
            "_model_module_version": "1.2.0",
            "_view_count": null,
            "flex_flow": null,
            "width": null,
            "min_width": null,
            "border": null,
            "align_items": null,
            "bottom": null,
            "_model_module": "@jupyter-widgets/base",
            "top": null,
            "grid_column": null,
            "overflow_y": null,
            "overflow_x": null,
            "grid_auto_flow": null,
            "grid_area": null,
            "grid_template_columns": null,
            "flex": null,
            "_model_name": "LayoutModel",
            "justify_items": null,
            "grid_row": null,
            "max_height": null,
            "align_content": null,
            "visibility": null,
            "align_self": null,
            "height": null,
            "min_height": null,
            "padding": null,
            "grid_auto_rows": null,
            "grid_gap": null,
            "max_width": null,
            "order": null,
            "_view_module_version": "1.2.0",
            "grid_template_areas": null,
            "object_position": null,
            "object_fit": null,
            "grid_auto_columns": null,
            "margin": null,
            "display": null,
            "left": null
          }
        },
        "c04b266e279d4fc2befbfaab8f11d39b": {
          "model_module": "@jupyter-widgets/controls",
          "model_name": "DescriptionStyleModel",
          "state": {
            "_view_name": "StyleView",
            "_model_name": "DescriptionStyleModel",
            "description_width": "",
            "_view_module": "@jupyter-widgets/base",
            "_model_module_version": "1.5.0",
            "_view_count": null,
            "_view_module_version": "1.2.0",
            "_model_module": "@jupyter-widgets/controls"
          }
        },
        "db837315c3904663ade18b8369a79f2e": {
          "model_module": "@jupyter-widgets/base",
          "model_name": "LayoutModel",
          "state": {
            "_view_name": "LayoutView",
            "grid_template_rows": null,
            "right": null,
            "justify_content": null,
            "_view_module": "@jupyter-widgets/base",
            "overflow": null,
            "_model_module_version": "1.2.0",
            "_view_count": null,
            "flex_flow": null,
            "width": null,
            "min_width": null,
            "border": null,
            "align_items": null,
            "bottom": null,
            "_model_module": "@jupyter-widgets/base",
            "top": null,
            "grid_column": null,
            "overflow_y": null,
            "overflow_x": null,
            "grid_auto_flow": null,
            "grid_area": null,
            "grid_template_columns": null,
            "flex": null,
            "_model_name": "LayoutModel",
            "justify_items": null,
            "grid_row": null,
            "max_height": null,
            "align_content": null,
            "visibility": null,
            "align_self": null,
            "height": null,
            "min_height": null,
            "padding": null,
            "grid_auto_rows": null,
            "grid_gap": null,
            "max_width": null,
            "order": null,
            "_view_module_version": "1.2.0",
            "grid_template_areas": null,
            "object_position": null,
            "object_fit": null,
            "grid_auto_columns": null,
            "margin": null,
            "display": null,
            "left": null
          }
        },
        "1f971ca821964934be5066c8bc00e88e": {
          "model_module": "@jupyter-widgets/base",
          "model_name": "LayoutModel",
          "state": {
            "_view_name": "LayoutView",
            "grid_template_rows": null,
            "right": null,
            "justify_content": null,
            "_view_module": "@jupyter-widgets/base",
            "overflow": null,
            "_model_module_version": "1.2.0",
            "_view_count": null,
            "flex_flow": null,
            "width": null,
            "min_width": null,
            "border": null,
            "align_items": null,
            "bottom": null,
            "_model_module": "@jupyter-widgets/base",
            "top": null,
            "grid_column": null,
            "overflow_y": null,
            "overflow_x": null,
            "grid_auto_flow": null,
            "grid_area": null,
            "grid_template_columns": null,
            "flex": null,
            "_model_name": "LayoutModel",
            "justify_items": null,
            "grid_row": null,
            "max_height": null,
            "align_content": null,
            "visibility": null,
            "align_self": null,
            "height": null,
            "min_height": null,
            "padding": null,
            "grid_auto_rows": null,
            "grid_gap": null,
            "max_width": null,
            "order": null,
            "_view_module_version": "1.2.0",
            "grid_template_areas": null,
            "object_position": null,
            "object_fit": null,
            "grid_auto_columns": null,
            "margin": null,
            "display": null,
            "left": null
          }
        }
      }
    }
  },
  "cells": [
    {
      "cell_type": "markdown",
      "metadata": {
        "id": "view-in-github",
        "colab_type": "text"
      },
      "source": [
        "<a href=\"https://colab.research.google.com/github/Bookanakere/yoga-pose-classifier/blob/main/yoga_pose_classifier_app.ipynb\" target=\"_parent\"><img src=\"https://colab.research.google.com/assets/colab-badge.svg\" alt=\"Open In Colab\"/></a>"
      ]
    },
    {
      "cell_type": "code",
      "metadata": {
        "id": "SYgpFs5_-454",
        "colab": {
          "base_uri": "https://localhost:8080/"
        },
        "outputId": "bd5f55dd-24f6-4dac-859b-ad5861a3a5d8"
      },
      "source": [
        "!pip install -Uqq fastbook"
      ],
      "execution_count": 1,
      "outputs": [
        {
          "output_type": "stream",
          "text": [
            "\u001b[K     |████████████████████████████████| 727kB 12.9MB/s \n",
            "\u001b[K     |████████████████████████████████| 1.2MB 30.4MB/s \n",
            "\u001b[K     |████████████████████████████████| 194kB 40.1MB/s \n",
            "\u001b[K     |████████████████████████████████| 51kB 4.9MB/s \n",
            "\u001b[K     |████████████████████████████████| 61kB 6.8MB/s \n",
            "\u001b[K     |████████████████████████████████| 61kB 7.4MB/s \n",
            "\u001b[?25h"
          ],
          "name": "stdout"
        }
      ]
    },
    {
      "cell_type": "markdown",
      "metadata": {
        "id": "G0VWlXga7iOx"
      },
      "source": [
        "Hola!\n",
        "\n",
        "Thank you for visiting this site. This is my first attempt at rendering a jupyter notebook into a web app. \n",
        "\n",
        "Are you a yoga enthusiast and would you like to know the names of different poses? Take a pic of the pose, upload it here and hit classify. \n",
        "\n",
        "*At the moment, the model can only identify 'tree', 'wheel' and 'cobra' poses. Any other pose or any other image will not return a sensible answer.* \n",
        "\n",
        "Give it a try and have fun! Cheers!"
      ]
    },
    {
      "cell_type": "code",
      "metadata": {
        "id": "D9l6OEBU_QPY"
      },
      "source": [
        "from fastbook import *\n",
        "from fastai.vision.widgets import *"
      ],
      "execution_count": 3,
      "outputs": []
    },
    {
      "cell_type": "code",
      "metadata": {
        "id": "XS8AYGoqADoG"
      },
      "source": [
        "path = Path()\n",
        "inference = load_learner(path/'export_21June.pkl')"
      ],
      "execution_count": 5,
      "outputs": []
    },
    {
      "cell_type": "code",
      "metadata": {
        "id": "WB-Texe-CLvN"
      },
      "source": [
        "btn_upload = widgets.FileUpload()\n",
        "out_pl = widgets.Output()\n",
        "lbl_pred = widgets.Label()\n",
        "btn_run = widgets.Button(description='Classify')"
      ],
      "execution_count": 6,
      "outputs": []
    },
    {
      "cell_type": "code",
      "metadata": {
        "id": "iinSByb3KY36"
      },
      "source": [
        "def on_click_classify(change):\n",
        "    img = PILImage.create(btn_upload.data[-1])\n",
        "    out_pl.clear_output()\n",
        "    with out_pl: display(img.to_thumb(128,128))\n",
        "    pred,pred_idx,probs = inference.predict(img)\n",
        "    lbl_pred.value = f'Prediction: {pred}; Probability: {probs[pred_idx]:.04f}'"
      ],
      "execution_count": 7,
      "outputs": []
    },
    {
      "cell_type": "code",
      "metadata": {
        "id": "4xIQXSA2Ti57"
      },
      "source": [
        "btn_run.on_click(on_click_classify)"
      ],
      "execution_count": 8,
      "outputs": []
    },
    {
      "cell_type": "code",
      "metadata": {
        "colab": {
          "base_uri": "https://localhost:8080/",
          "height": 327,
          "referenced_widgets": [
            "b677c222d96f47eba27e300ff7f015e2",
            "ff624985b6f843979cffe5a84e99bac4",
            "818b674fa489406dae59b6e9e6cc2b91",
            "a96b3a7de78d4cfcaf81aa4e5a69641f",
            "66bf93796bb94621be2ff7f8bba829d6",
            "a2507d8b69674d1da4d7c334f49093ae",
            "3d0685ee90b049b986d4e0c72f25207d",
            "ac727fa2b4744895b1416c6b79e494d1",
            "5c98b81f2b5541959f6b08ac92ac0695",
            "cd89482a77464dd8a78914260b067efc",
            "8019227cb9d7494fa2d6b5dd22d74f13",
            "e516d3826459420b8a46010075f99dcc",
            "689092d5e4cd4e1fa57bdabca9a2ac8a",
            "c04b266e279d4fc2befbfaab8f11d39b",
            "db837315c3904663ade18b8369a79f2e",
            "1f971ca821964934be5066c8bc00e88e"
          ]
        },
        "id": "dkQS3mIsKcBN",
        "outputId": "3ddddfc8-3618-431f-ec8b-55cbaa2d12d5"
      },
      "source": [
        "VBox([widgets.Label('upload your pic!'), \n",
        "      btn_upload, btn_run, out_pl, lbl_pred])"
      ],
      "execution_count": 9,
      "outputs": [
        {
          "output_type": "display_data",
          "data": {
            "application/vnd.jupyter.widget-view+json": {
              "model_id": "b677c222d96f47eba27e300ff7f015e2",
              "version_minor": 0,
              "version_major": 2
            },
            "text/plain": [
              "VBox(children=(Label(value='upload your pic!'), FileUpload(value={}, description='Upload'), Button(description…"
            ]
          },
          "metadata": {
            "tags": []
          }
        },
        {
          "output_type": "display_data",
          "data": {
            "text/html": [
              ""
            ],
            "text/plain": [
              "<IPython.core.display.HTML object>"
            ]
          },
          "metadata": {
            "tags": []
          }
        },
        {
          "output_type": "stream",
          "text": [
            "/usr/local/lib/python3.7/dist-packages/torch/nn/functional.py:718: UserWarning: Named tensors and all their associated APIs are an experimental feature and subject to change. Please do not use them for anything important until they are released as stable. (Triggered internally at  /pytorch/c10/core/TensorImpl.h:1156.)\n",
            "  return torch.max_pool2d(input, kernel_size, stride, padding, dilation, ceil_mode)\n"
          ],
          "name": "stderr"
        }
      ]
    },
    {
      "cell_type": "code",
      "metadata": {
        "id": "Qfc6cFdTLeny"
      },
      "source": [
        ""
      ],
      "execution_count": null,
      "outputs": []
    }
  ]
}