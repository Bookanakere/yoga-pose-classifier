{
  "nbformat": 4,
  "nbformat_minor": 0,
  "metadata": {
    "colab": {
      "name": "yoga-pose-classifier-app.ipynb",
      "provenance": [],
      "collapsed_sections": [],
      "authorship_tag": "ABX9TyPAvC4zgLjNfj441gnBMcqU",
      "include_colab_link": true
    },
    "kernelspec": {
      "name": "python3",
      "display_name": "Python 3"
    },
    "language_info": {
      "name": "python"
    },
    "accelerator": "GPU",
    "widgets": {
      "application/vnd.jupyter.widget-state+json": {
        "33fe1fff3ee64af595e5116e53360d16": {
          "model_module": "@jupyter-widgets/controls",
          "model_name": "VBoxModel",
          "state": {
            "_view_name": "VBoxView",
            "_dom_classes": [],
            "_model_name": "VBoxModel",
            "_view_module": "@jupyter-widgets/controls",
            "_model_module_version": "1.5.0",
            "_view_count": null,
            "_view_module_version": "1.5.0",
            "box_style": "",
            "layout": "IPY_MODEL_728016cee9cd4037b237462440521509",
            "_model_module": "@jupyter-widgets/controls",
            "children": [
              "IPY_MODEL_00f813267427422e8009c49af7c26e8a",
              "IPY_MODEL_cb28084160f34f91b9beb59de03f6e23",
              "IPY_MODEL_f39bf38398404c03bd4a1adf44b12cd4",
              "IPY_MODEL_8427e64973ea451a8377e422ed8c9edd",
              "IPY_MODEL_d4241236136740b5941639b0c9590e5d"
            ]
          }
        },
        "728016cee9cd4037b237462440521509": {
          "model_module": "@jupyter-widgets/base",
          "model_name": "LayoutModel",
          "state": {
            "_view_name": "LayoutView",
            "grid_template_rows": null,
            "right": null,
            "justify_content": null,
            "_view_module": "@jupyter-widgets/base",
            "overflow": null,
            "_model_module_version": "1.2.0",
            "_view_count": null,
            "flex_flow": null,
            "width": null,
            "min_width": null,
            "border": null,
            "align_items": null,
            "bottom": null,
            "_model_module": "@jupyter-widgets/base",
            "top": null,
            "grid_column": null,
            "overflow_y": null,
            "overflow_x": null,
            "grid_auto_flow": null,
            "grid_area": null,
            "grid_template_columns": null,
            "flex": null,
            "_model_name": "LayoutModel",
            "justify_items": null,
            "grid_row": null,
            "max_height": null,
            "align_content": null,
            "visibility": null,
            "align_self": null,
            "height": null,
            "min_height": null,
            "padding": null,
            "grid_auto_rows": null,
            "grid_gap": null,
            "max_width": null,
            "order": null,
            "_view_module_version": "1.2.0",
            "grid_template_areas": null,
            "object_position": null,
            "object_fit": null,
            "grid_auto_columns": null,
            "margin": null,
            "display": null,
            "left": null
          }
        },
        "00f813267427422e8009c49af7c26e8a": {
          "model_module": "@jupyter-widgets/controls",
          "model_name": "LabelModel",
          "state": {
            "_view_name": "LabelView",
            "style": "IPY_MODEL_f53cd44cc78b48fba550b69005b44f8c",
            "_dom_classes": [],
            "description": "",
            "_model_name": "LabelModel",
            "placeholder": "​",
            "_view_module": "@jupyter-widgets/controls",
            "_model_module_version": "1.5.0",
            "value": "Select your bear!",
            "_view_count": null,
            "_view_module_version": "1.5.0",
            "description_tooltip": null,
            "_model_module": "@jupyter-widgets/controls",
            "layout": "IPY_MODEL_3ca72d02204a45f9a2853ea1f825c192"
          }
        },
        "cb28084160f34f91b9beb59de03f6e23": {
          "model_module": "@jupyter-widgets/controls",
          "model_name": "FileUploadModel",
          "state": {
            "_view_name": "FileUploadView",
            "_counter": 1,
            "style": "IPY_MODEL_10a9bba9ae6a4faabce1f3b6ed72ac50",
            "_dom_classes": [],
            "description": "Upload",
            "multiple": false,
            "_model_name": "FileUploadModel",
            "data": [
              null
            ],
            "button_style": "",
            "_view_module": "@jupyter-widgets/controls",
            "_model_module_version": "1.5.0",
            "accept": "",
            "_view_count": null,
            "disabled": false,
            "_view_module_version": "1.5.0",
            "error": "",
            "description_tooltip": null,
            "metadata": [
              {
                "name": "pose3.jpg",
                "type": "image/jpeg",
                "size": 112465,
                "lastModified": 1614498168000
              }
            ],
            "_model_module": "@jupyter-widgets/controls",
            "layout": "IPY_MODEL_e9c9efd1e17d40ca84cfcdb89605201f",
            "icon": "upload"
          }
        },
        "f39bf38398404c03bd4a1adf44b12cd4": {
          "model_module": "@jupyter-widgets/controls",
          "model_name": "ButtonModel",
          "state": {
            "_view_name": "ButtonView",
            "style": "IPY_MODEL_47b6e3a3453146ba865f4a1775ff207a",
            "_dom_classes": [],
            "description": "Classify",
            "_model_name": "ButtonModel",
            "button_style": "",
            "_view_module": "@jupyter-widgets/controls",
            "_model_module_version": "1.5.0",
            "tooltip": "",
            "_view_count": null,
            "disabled": false,
            "_view_module_version": "1.5.0",
            "layout": "IPY_MODEL_29407669f3c64817bde64d415d1cdb8d",
            "_model_module": "@jupyter-widgets/controls",
            "icon": ""
          }
        },
        "8427e64973ea451a8377e422ed8c9edd": {
          "model_module": "@jupyter-widgets/output",
          "model_name": "OutputModel",
          "state": {
            "_view_name": "OutputView",
            "msg_id": "",
            "_dom_classes": [],
            "_model_name": "OutputModel",
            "outputs": [
              {
                "output_type": "display_data",
                "metadata": {
                  "tags": []
                },
                "image/png": "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\n",
                "text/plain": "<PIL.Image.Image image mode=RGB size=96x128 at 0x7F831916F790>"
              }
            ],
            "_view_module": "@jupyter-widgets/output",
            "_model_module_version": "1.0.0",
            "_view_count": null,
            "_view_module_version": "1.0.0",
            "layout": "IPY_MODEL_571ed6ea08914ca4a84d111b08797f75",
            "_model_module": "@jupyter-widgets/output"
          }
        },
        "d4241236136740b5941639b0c9590e5d": {
          "model_module": "@jupyter-widgets/controls",
          "model_name": "LabelModel",
          "state": {
            "_view_name": "LabelView",
            "style": "IPY_MODEL_475771c004a74865aff11026f5a80cc4",
            "_dom_classes": [],
            "description": "",
            "_model_name": "LabelModel",
            "placeholder": "​",
            "_view_module": "@jupyter-widgets/controls",
            "_model_module_version": "1.5.0",
            "value": "Prediction: wheel; Probability: 0.9904",
            "_view_count": null,
            "_view_module_version": "1.5.0",
            "description_tooltip": null,
            "_model_module": "@jupyter-widgets/controls",
            "layout": "IPY_MODEL_2c0d6f7fa8a948c5b6feceeb52dec615"
          }
        },
        "f53cd44cc78b48fba550b69005b44f8c": {
          "model_module": "@jupyter-widgets/controls",
          "model_name": "DescriptionStyleModel",
          "state": {
            "_view_name": "StyleView",
            "_model_name": "DescriptionStyleModel",
            "description_width": "",
            "_view_module": "@jupyter-widgets/base",
            "_model_module_version": "1.5.0",
            "_view_count": null,
            "_view_module_version": "1.2.0",
            "_model_module": "@jupyter-widgets/controls"
          }
        },
        "3ca72d02204a45f9a2853ea1f825c192": {
          "model_module": "@jupyter-widgets/base",
          "model_name": "LayoutModel",
          "state": {
            "_view_name": "LayoutView",
            "grid_template_rows": null,
            "right": null,
            "justify_content": null,
            "_view_module": "@jupyter-widgets/base",
            "overflow": null,
            "_model_module_version": "1.2.0",
            "_view_count": null,
            "flex_flow": null,
            "width": null,
            "min_width": null,
            "border": null,
            "align_items": null,
            "bottom": null,
            "_model_module": "@jupyter-widgets/base",
            "top": null,
            "grid_column": null,
            "overflow_y": null,
            "overflow_x": null,
            "grid_auto_flow": null,
            "grid_area": null,
            "grid_template_columns": null,
            "flex": null,
            "_model_name": "LayoutModel",
            "justify_items": null,
            "grid_row": null,
            "max_height": null,
            "align_content": null,
            "visibility": null,
            "align_self": null,
            "height": null,
            "min_height": null,
            "padding": null,
            "grid_auto_rows": null,
            "grid_gap": null,
            "max_width": null,
            "order": null,
            "_view_module_version": "1.2.0",
            "grid_template_areas": null,
            "object_position": null,
            "object_fit": null,
            "grid_auto_columns": null,
            "margin": null,
            "display": null,
            "left": null
          }
        },
        "10a9bba9ae6a4faabce1f3b6ed72ac50": {
          "model_module": "@jupyter-widgets/controls",
          "model_name": "ButtonStyleModel",
          "state": {
            "_view_name": "StyleView",
            "_model_name": "ButtonStyleModel",
            "_view_module": "@jupyter-widgets/base",
            "_model_module_version": "1.5.0",
            "_view_count": null,
            "button_color": null,
            "font_weight": "",
            "_view_module_version": "1.2.0",
            "_model_module": "@jupyter-widgets/controls"
          }
        },
        "e9c9efd1e17d40ca84cfcdb89605201f": {
          "model_module": "@jupyter-widgets/base",
          "model_name": "LayoutModel",
          "state": {
            "_view_name": "LayoutView",
            "grid_template_rows": null,
            "right": null,
            "justify_content": null,
            "_view_module": "@jupyter-widgets/base",
            "overflow": null,
            "_model_module_version": "1.2.0",
            "_view_count": null,
            "flex_flow": null,
            "width": null,
            "min_width": null,
            "border": null,
            "align_items": null,
            "bottom": null,
            "_model_module": "@jupyter-widgets/base",
            "top": null,
            "grid_column": null,
            "overflow_y": null,
            "overflow_x": null,
            "grid_auto_flow": null,
            "grid_area": null,
            "grid_template_columns": null,
            "flex": null,
            "_model_name": "LayoutModel",
            "justify_items": null,
            "grid_row": null,
            "max_height": null,
            "align_content": null,
            "visibility": null,
            "align_self": null,
            "height": null,
            "min_height": null,
            "padding": null,
            "grid_auto_rows": null,
            "grid_gap": null,
            "max_width": null,
            "order": null,
            "_view_module_version": "1.2.0",
            "grid_template_areas": null,
            "object_position": null,
            "object_fit": null,
            "grid_auto_columns": null,
            "margin": null,
            "display": null,
            "left": null
          }
        },
        "47b6e3a3453146ba865f4a1775ff207a": {
          "model_module": "@jupyter-widgets/controls",
          "model_name": "ButtonStyleModel",
          "state": {
            "_view_name": "StyleView",
            "_model_name": "ButtonStyleModel",
            "_view_module": "@jupyter-widgets/base",
            "_model_module_version": "1.5.0",
            "_view_count": null,
            "button_color": null,
            "font_weight": "",
            "_view_module_version": "1.2.0",
            "_model_module": "@jupyter-widgets/controls"
          }
        },
        "29407669f3c64817bde64d415d1cdb8d": {
          "model_module": "@jupyter-widgets/base",
          "model_name": "LayoutModel",
          "state": {
            "_view_name": "LayoutView",
            "grid_template_rows": null,
            "right": null,
            "justify_content": null,
            "_view_module": "@jupyter-widgets/base",
            "overflow": null,
            "_model_module_version": "1.2.0",
            "_view_count": null,
            "flex_flow": null,
            "width": null,
            "min_width": null,
            "border": null,
            "align_items": null,
            "bottom": null,
            "_model_module": "@jupyter-widgets/base",
            "top": null,
            "grid_column": null,
            "overflow_y": null,
            "overflow_x": null,
            "grid_auto_flow": null,
            "grid_area": null,
            "grid_template_columns": null,
            "flex": null,
            "_model_name": "LayoutModel",
            "justify_items": null,
            "grid_row": null,
            "max_height": null,
            "align_content": null,
            "visibility": null,
            "align_self": null,
            "height": null,
            "min_height": null,
            "padding": null,
            "grid_auto_rows": null,
            "grid_gap": null,
            "max_width": null,
            "order": null,
            "_view_module_version": "1.2.0",
            "grid_template_areas": null,
            "object_position": null,
            "object_fit": null,
            "grid_auto_columns": null,
            "margin": null,
            "display": null,
            "left": null
          }
        },
        "475771c004a74865aff11026f5a80cc4": {
          "model_module": "@jupyter-widgets/controls",
          "model_name": "DescriptionStyleModel",
          "state": {
            "_view_name": "StyleView",
            "_model_name": "DescriptionStyleModel",
            "description_width": "",
            "_view_module": "@jupyter-widgets/base",
            "_model_module_version": "1.5.0",
            "_view_count": null,
            "_view_module_version": "1.2.0",
            "_model_module": "@jupyter-widgets/controls"
          }
        },
        "2c0d6f7fa8a948c5b6feceeb52dec615": {
          "model_module": "@jupyter-widgets/base",
          "model_name": "LayoutModel",
          "state": {
            "_view_name": "LayoutView",
            "grid_template_rows": null,
            "right": null,
            "justify_content": null,
            "_view_module": "@jupyter-widgets/base",
            "overflow": null,
            "_model_module_version": "1.2.0",
            "_view_count": null,
            "flex_flow": null,
            "width": null,
            "min_width": null,
            "border": null,
            "align_items": null,
            "bottom": null,
            "_model_module": "@jupyter-widgets/base",
            "top": null,
            "grid_column": null,
            "overflow_y": null,
            "overflow_x": null,
            "grid_auto_flow": null,
            "grid_area": null,
            "grid_template_columns": null,
            "flex": null,
            "_model_name": "LayoutModel",
            "justify_items": null,
            "grid_row": null,
            "max_height": null,
            "align_content": null,
            "visibility": null,
            "align_self": null,
            "height": null,
            "min_height": null,
            "padding": null,
            "grid_auto_rows": null,
            "grid_gap": null,
            "max_width": null,
            "order": null,
            "_view_module_version": "1.2.0",
            "grid_template_areas": null,
            "object_position": null,
            "object_fit": null,
            "grid_auto_columns": null,
            "margin": null,
            "display": null,
            "left": null
          }
        },
        "571ed6ea08914ca4a84d111b08797f75": {
          "model_module": "@jupyter-widgets/base",
          "model_name": "LayoutModel",
          "state": {
            "_view_name": "LayoutView",
            "grid_template_rows": null,
            "right": null,
            "justify_content": null,
            "_view_module": "@jupyter-widgets/base",
            "overflow": null,
            "_model_module_version": "1.2.0",
            "_view_count": null,
            "flex_flow": null,
            "width": null,
            "min_width": null,
            "border": null,
            "align_items": null,
            "bottom": null,
            "_model_module": "@jupyter-widgets/base",
            "top": null,
            "grid_column": null,
            "overflow_y": null,
            "overflow_x": null,
            "grid_auto_flow": null,
            "grid_area": null,
            "grid_template_columns": null,
            "flex": null,
            "_model_name": "LayoutModel",
            "justify_items": null,
            "grid_row": null,
            "max_height": null,
            "align_content": null,
            "visibility": null,
            "align_self": null,
            "height": null,
            "min_height": null,
            "padding": null,
            "grid_auto_rows": null,
            "grid_gap": null,
            "max_width": null,
            "order": null,
            "_view_module_version": "1.2.0",
            "grid_template_areas": null,
            "object_position": null,
            "object_fit": null,
            "grid_auto_columns": null,
            "margin": null,
            "display": null,
            "left": null
          }
        }
      }
    }
  },
  "cells": [
    {
      "cell_type": "markdown",
      "metadata": {
        "id": "view-in-github",
        "colab_type": "text"
      },
      "source": [
        "<a href=\"https://colab.research.google.com/github/Bookanakere/yoga-pose-classifier/blob/main/yoga_pose_classifier_app.ipynb\" target=\"_parent\"><img src=\"https://colab.research.google.com/assets/colab-badge.svg\" alt=\"Open In Colab\"/></a>"
      ]
    },
    {
      "cell_type": "code",
      "metadata": {
        "id": "SYgpFs5_-454"
      },
      "source": [
        "!pip install -Uqq fastbook"
      ],
      "execution_count": null,
      "outputs": []
    },
    {
      "cell_type": "markdown",
      "metadata": {
        "id": "G0VWlXga7iOx"
      },
      "source": [
        "Hola!\n",
        "\n",
        "Thank you for visiting this site. This is my first attempt at rendering a jupyter notebook into a web app. \n",
        "\n",
        "Are you a yoga enthusiast and would you like to know the names of different poses? Take a pic of the pose, upload it here and hit classify. \n",
        "\n",
        "*At the moment, the model can only identify 'tree', 'wheel' and 'cobra' poses. Any other pose or any other image will not return a sensible answer.* \n",
        "\n",
        "Give it a try and have fun! Cheers!"
      ]
    },
    {
      "cell_type": "code",
      "metadata": {
        "id": "XP90fg-f_Izu"
      },
      "source": [
        "import fastbook\n",
        "fastbook.setup_book()"
      ],
      "execution_count": null,
      "outputs": []
    },
    {
      "cell_type": "code",
      "metadata": {
        "id": "D9l6OEBU_QPY"
      },
      "source": [
        "from fastbook import *\n",
        "from fastai.vision.widgets import *"
      ],
      "execution_count": null,
      "outputs": []
    },
    {
      "cell_type": "code",
      "metadata": {
        "id": "XS8AYGoqADoG"
      },
      "source": [
        "path = Path()\n",
        "inference = load_learner(path/'export_21June.pkl')"
      ],
      "execution_count": null,
      "outputs": []
    },
    {
      "cell_type": "code",
      "metadata": {
        "id": "WB-Texe-CLvN"
      },
      "source": [
        "btn_upload = widgets.FileUpload()\n",
        "out_pl = widgets.Output()\n",
        "lbl_pred = widgets.Label()\n",
        "btn_run = widgets.Button(description='Classify')"
      ],
      "execution_count": null,
      "outputs": []
    },
    {
      "cell_type": "code",
      "metadata": {
        "id": "iinSByb3KY36"
      },
      "source": [
        "def on_click_classify(change):\n",
        "    img = PILImage.create(btn_upload.data[-1])\n",
        "    out_pl.clear_output()\n",
        "    with out_pl: display(img.to_thumb(128,128))\n",
        "    pred,pred_idx,probs = inference.predict(img)\n",
        "    lbl_pred.value = f'Prediction: {pred}; Probability: {probs[pred_idx]:.04f}'"
      ],
      "execution_count": null,
      "outputs": []
    },
    {
      "cell_type": "code",
      "metadata": {
        "id": "4xIQXSA2Ti57"
      },
      "source": [
        "btn_run.on_click(on_click_classify)"
      ],
      "execution_count": null,
      "outputs": []
    },
    {
      "cell_type": "code",
      "metadata": {
        "colab": {
          "base_uri": "https://localhost:8080/",
          "height": 273,
          "referenced_widgets": [
            "33fe1fff3ee64af595e5116e53360d16",
            "728016cee9cd4037b237462440521509",
            "00f813267427422e8009c49af7c26e8a",
            "cb28084160f34f91b9beb59de03f6e23",
            "f39bf38398404c03bd4a1adf44b12cd4",
            "8427e64973ea451a8377e422ed8c9edd",
            "d4241236136740b5941639b0c9590e5d",
            "f53cd44cc78b48fba550b69005b44f8c",
            "3ca72d02204a45f9a2853ea1f825c192",
            "10a9bba9ae6a4faabce1f3b6ed72ac50",
            "e9c9efd1e17d40ca84cfcdb89605201f",
            "47b6e3a3453146ba865f4a1775ff207a",
            "29407669f3c64817bde64d415d1cdb8d",
            "475771c004a74865aff11026f5a80cc4",
            "2c0d6f7fa8a948c5b6feceeb52dec615",
            "571ed6ea08914ca4a84d111b08797f75"
          ]
        },
        "id": "dkQS3mIsKcBN",
        "outputId": "23b5448f-f779-4029-8a28-c0ec2242c587"
      },
      "source": [
        "VBox([widgets.Label('upload your pic!'), \n",
        "      btn_upload, btn_run, out_pl, lbl_pred])"
      ],
      "execution_count": null,
      "outputs": [
        {
          "output_type": "display_data",
          "data": {
            "application/vnd.jupyter.widget-view+json": {
              "model_id": "33fe1fff3ee64af595e5116e53360d16",
              "version_minor": 0,
              "version_major": 2
            },
            "text/plain": [
              "VBox(children=(Label(value='Select your bear!'), FileUpload(value={}, description='Upload'), Button(descriptio…"
            ]
          },
          "metadata": {
            "tags": []
          }
        },
        {
          "output_type": "display_data",
          "data": {
            "text/html": [
              ""
            ],
            "text/plain": [
              "<IPython.core.display.HTML object>"
            ]
          },
          "metadata": {
            "tags": []
          }
        }
      ]
    },
    {
      "cell_type": "code",
      "metadata": {
        "id": "Qfc6cFdTLeny"
      },
      "source": [
        ""
      ],
      "execution_count": null,
      "outputs": []
    }
  ]
}